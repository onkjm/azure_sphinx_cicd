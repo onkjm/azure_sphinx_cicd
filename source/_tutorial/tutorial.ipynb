{
 "cells": [
  {
   "cell_type": "markdown",
   "id": "2da03011-214a-433b-a37b-2be35f8b4518",
   "metadata": {},
   "source": [
    "# myapi Tutorial"
   ]
  },
  {
   "cell_type": "markdown",
   "id": "906b9d6d-cddc-448b-b9bc-4a171321b925",
   "metadata": {},
   "source": [
    "## myapiの基本的な使い方"
   ]
  },
  {
   "cell_type": "code",
   "execution_count": 1,
   "id": "d368d929-bd57-4ae5-b323-6c52b076a897",
   "metadata": {},
   "outputs": [
    {
     "name": "stdout",
     "output_type": "stream",
     "text": [
      "Hello, world.\n"
     ]
    }
   ],
   "source": [
    "# 基本的な使い方\n",
    "import myapi\n",
    "\n",
    "# インスタンスの作成\n",
    "ph = myapi.PrintHello()\n",
    "\n",
    "# 文字列の表示\n",
    "ret = ph.execute()"
   ]
  },
  {
   "cell_type": "markdown",
   "id": "9ee4cc4d-105c-4e87-af0c-8911f4da6465",
   "metadata": {},
   "source": [
    "## 特殊な使い方"
   ]
  },
  {
   "cell_type": "markdown",
   "id": "b9a8b845-ff7e-4b8f-a731-cc5569ffff9a",
   "metadata": {},
   "source": [
    "### 引数を与えた文字列の表示"
   ]
  },
  {
   "cell_type": "code",
   "execution_count": 2,
   "id": "4a0b4249-4962-4b21-b2cd-0fdad0851970",
   "metadata": {},
   "outputs": [
    {
     "name": "stdout",
     "output_type": "stream",
     "text": [
      "Hi!\n"
     ]
    }
   ],
   "source": [
    "ret = ph.execute(input_str='Hi!')"
   ]
  },
  {
   "cell_type": "markdown",
   "id": "4e411004-ba92-49cc-8bc3-5eeed29844c5",
   "metadata": {},
   "source": [
    "### リストの和の計算"
   ]
  },
  {
   "cell_type": "code",
   "execution_count": 3,
   "id": "f7fb5a97-94d6-4a3c-8006-69d5e31862af",
   "metadata": {},
   "outputs": [
    {
     "data": {
      "text/plain": [
       "7"
      ]
     },
     "execution_count": 3,
     "metadata": {},
     "output_type": "execute_result"
    }
   ],
   "source": [
    "## 引数の和を計算する方法\n",
    "l_int = [3, 4]\n",
    "ph.get_sum(l_int)"
   ]
  },
  {
   "cell_type": "markdown",
   "id": "550d16f2-7b5e-4dc0-b6d3-b8322608f2aa",
   "metadata": {},
   "source": [
    "#### エラーが出るケース"
   ]
  },
  {
   "cell_type": "code",
   "execution_count": 4,
   "id": "5f5689cd-68f1-4c04-91af-0e817008c382",
   "metadata": {},
   "outputs": [
    {
     "ename": "InvalidListError",
     "evalue": "和が8にならないようにしてください",
     "output_type": "error",
     "traceback": [
      "\u001b[0;31m---------------------------------------------------------------------------\u001b[0m",
      "\u001b[0;31mInvalidListError\u001b[0m                          Traceback (most recent call last)",
      "Cell \u001b[0;32mIn[4], line 3\u001b[0m\n\u001b[1;32m      1\u001b[0m \u001b[38;5;66;03m## 引数の和を計算する方法\u001b[39;00m\n\u001b[1;32m      2\u001b[0m l_int \u001b[38;5;241m=\u001b[39m [\u001b[38;5;241m3\u001b[39m, \u001b[38;5;241m5\u001b[39m]\n\u001b[0;32m----> 3\u001b[0m \u001b[43mph\u001b[49m\u001b[38;5;241;43m.\u001b[39;49m\u001b[43mget_sum\u001b[49m\u001b[43m(\u001b[49m\u001b[43ml_int\u001b[49m\u001b[43m)\u001b[49m\n",
      "File \u001b[0;32m~/notebook/sphinx/apidoc/myapi/myapi_01.py:69\u001b[0m, in \u001b[0;36mPrintHello.get_sum\u001b[0;34m(self, list_int)\u001b[0m\n\u001b[1;32m     67\u001b[0m ret \u001b[38;5;241m=\u001b[39m \u001b[38;5;241m0\u001b[39m\n\u001b[1;32m     68\u001b[0m \u001b[38;5;28;01mif\u001b[39;00m \u001b[38;5;28mlen\u001b[39m(list_int)\u001b[38;5;241m==\u001b[39m\u001b[38;5;241m2\u001b[39m:\n\u001b[0;32m---> 69\u001b[0m     ret \u001b[38;5;241m=\u001b[39m \u001b[43mmyapi_02\u001b[49m\u001b[38;5;241;43m.\u001b[39;49m\u001b[43mutils01\u001b[49m\u001b[43m(\u001b[49m\u001b[43mlist_int\u001b[49m\u001b[43m[\u001b[49m\u001b[38;5;241;43m0\u001b[39;49m\u001b[43m]\u001b[49m\u001b[43m,\u001b[49m\u001b[43m \u001b[49m\u001b[43mlist_int\u001b[49m\u001b[43m[\u001b[49m\u001b[38;5;241;43m1\u001b[39;49m\u001b[43m]\u001b[49m\u001b[43m)\u001b[49m\n\u001b[1;32m     71\u001b[0m \u001b[38;5;28;01mreturn\u001b[39;00m ret\n",
      "File \u001b[0;32m~/notebook/sphinx/apidoc/myapi/utils/myapi_02.py:21\u001b[0m, in \u001b[0;36mutils01\u001b[0;34m(i1, i2)\u001b[0m\n\u001b[1;32m     18\u001b[0m ret \u001b[38;5;241m=\u001b[39m i1 \u001b[38;5;241m+\u001b[39m i2\n\u001b[1;32m     20\u001b[0m \u001b[38;5;28;01mif\u001b[39;00m ret \u001b[38;5;241m==\u001b[39m \u001b[38;5;241m8\u001b[39m:\n\u001b[0;32m---> 21\u001b[0m     \u001b[38;5;28;01mraise\u001b[39;00m InvalidListError(\u001b[38;5;124m'\u001b[39m\u001b[38;5;124m和が8にならないようにしてください\u001b[39m\u001b[38;5;124m'\u001b[39m)\n\u001b[1;32m     23\u001b[0m \u001b[38;5;28;01mreturn\u001b[39;00m i1 \u001b[38;5;241m+\u001b[39m i2\n",
      "\u001b[0;31mInvalidListError\u001b[0m: 和が8にならないようにしてください"
     ]
    }
   ],
   "source": [
    "## 引数の和を計算する方法\n",
    "l_int = [3, 5]\n",
    "ph.get_sum(l_int)"
   ]
  },
  {
   "cell_type": "code",
   "execution_count": null,
   "id": "8b806abd-b9b6-42ef-82f1-12c854cc9f5f",
   "metadata": {},
   "outputs": [],
   "source": []
  }
 ],
 "metadata": {
  "kernelspec": {
   "display_name": "on_pandas",
   "language": "python",
   "name": "on_pandas"
  },
  "language_info": {
   "codemirror_mode": {
    "name": "ipython",
    "version": 3
   },
   "file_extension": ".py",
   "mimetype": "text/x-python",
   "name": "python",
   "nbconvert_exporter": "python",
   "pygments_lexer": "ipython3",
   "version": "3.11.0"
  }
 },
 "nbformat": 4,
 "nbformat_minor": 5
}
